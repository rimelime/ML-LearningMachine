{
 "cells": [
  {
   "cell_type": "code",
   "execution_count": 10,
   "metadata": {},
   "outputs": [],
   "source": [
    "import pandas as pd\n",
    "import numpy as np\n",
    "import torch\n",
    "from sklearn.preprocessing import StandardScaler\n",
    "import sys\n",
    "import os\n",
    "# sys.path.append(os.path.dirname(os.path.dirname(os.path.abspath(os.getcwd()))))\n",
    "from eval_NN import train_eval_save_NN"
   ]
  },
  {
   "cell_type": "code",
   "execution_count": 11,
   "metadata": {},
   "outputs": [],
   "source": [
    "# TRAIN_CSV = \"data/processed/cleaned_data.csv\"\n",
    "# MODEL_PATH = \"models/trained/NN_model.pkl\"\n",
    "BASE_DIR=os.path.dirname(os.path.dirname(os.path.dirname(os.path.abspath(os.getcwd()))))\n",
    "csv_path = os.path.join(BASE_DIR,\"data\", \"processed\", \"cleaned_data.csv\")\n",
    "outputPath = os.path.join(BASE_DIR,\"models\", \"trained\", \"NN_model.pkl\")"
   ]
  },
  {
   "cell_type": "code",
   "execution_count": 12,
   "metadata": {},
   "outputs": [
    {
     "name": "stdout",
     "output_type": "stream",
     "text": [
      "Using device: cpu\n"
     ]
    }
   ],
   "source": [
    "device = torch.device(\"cuda\" if torch.cuda.is_available() else \"cpu\")\n",
    "print(f\"Using device: {device}\")"
   ]
  },
  {
   "cell_type": "code",
   "execution_count": 13,
   "metadata": {},
   "outputs": [],
   "source": [
    "\n",
    "df = pd.read_csv(csv_path)"
   ]
  },
  {
   "cell_type": "code",
   "execution_count": 14,
   "metadata": {},
   "outputs": [],
   "source": [
    "features = [\n",
    "        'store_sales(in millions)', 'store_cost(in millions)', 'total_children',\n",
    "        'avg_cars_at home(approx)', 'num_children_at_home', 'gross_weight',\n",
    "        'net_weight', 'store_sqft', 'grocery_sqft', 'units_per_case', 'SRP'\n",
    "    ]\n",
    "target = 'cost'"
   ]
  },
  {
   "cell_type": "code",
   "execution_count": 15,
   "metadata": {},
   "outputs": [],
   "source": [
    "data = df[features].values\n",
    "data_output = df[target].values"
   ]
  },
  {
   "cell_type": "code",
   "execution_count": 16,
   "metadata": {},
   "outputs": [],
   "source": [
    "scaler_X = StandardScaler()\n",
    "scaler_y = StandardScaler()\n",
    "\n",
    "data = scaler_X.fit_transform(data)\n",
    "data_output = scaler_y.fit_transform(data_output.reshape(-1, 1))"
   ]
  },
  {
   "cell_type": "code",
   "execution_count": 17,
   "metadata": {},
   "outputs": [],
   "source": [
    "data = torch.tensor(data, dtype=torch.float32).to(device)\n",
    "data_output = torch.tensor(data_output, dtype=torch.float32).to(device).view(-1, 1)"
   ]
  },
  {
   "cell_type": "code",
   "execution_count": 18,
   "metadata": {},
   "outputs": [
    {
     "name": "stdout",
     "output_type": "stream",
     "text": [
      "Fold 1/5\n",
      "  Epoch [10/50] - Loss: 0.96972\n",
      "  Epoch [20/50] - Loss: 0.95707\n",
      "  Epoch [30/50] - Loss: 0.94450\n",
      "  Epoch [40/50] - Loss: 0.93276\n",
      "  Epoch [50/50] - Loss: 0.92361\n",
      "  Accuracy: 0.00000\n",
      "  Validation MSE: 905.13617\n",
      "  R² Score: -0.00179\n",
      "Fold 2/5\n",
      "  Epoch [10/50] - Loss: 0.96762\n",
      "  Epoch [20/50] - Loss: 0.95316\n",
      "  Epoch [30/50] - Loss: 0.94107\n",
      "  Epoch [40/50] - Loss: 0.93089\n",
      "  Epoch [50/50] - Loss: 0.92365\n",
      "  Accuracy: 0.00000\n",
      "  Validation MSE: 904.77039\n",
      "  R² Score: 0.00596\n",
      "Fold 3/5\n",
      "  Epoch [10/50] - Loss: 0.97341\n",
      "  Epoch [20/50] - Loss: 0.95761\n",
      "  Epoch [30/50] - Loss: 0.94601\n",
      "  Epoch [40/50] - Loss: 0.93695\n",
      "  Epoch [50/50] - Loss: 0.92737\n",
      "  Accuracy: 0.00000\n",
      "  Validation MSE: 888.00098\n",
      "  R² Score: 0.00044\n",
      "Fold 4/5\n",
      "  Epoch [10/50] - Loss: 0.96914\n",
      "  Epoch [20/50] - Loss: 0.95387\n",
      "  Epoch [30/50] - Loss: 0.94255\n",
      "  Epoch [40/50] - Loss: 0.93279\n",
      "  Epoch [50/50] - Loss: 0.92465\n",
      "  Accuracy: 0.00000\n",
      "  Validation MSE: 890.64197\n",
      "  R² Score: 0.00614\n",
      "Fold 5/5\n",
      "  Epoch [10/50] - Loss: 0.96651\n",
      "  Epoch [20/50] - Loss: 0.95572\n",
      "  Epoch [30/50] - Loss: 0.94212\n",
      "  Epoch [40/50] - Loss: 0.93282\n",
      "  Epoch [50/50] - Loss: 0.92110\n",
      "  Accuracy: 0.00000\n",
      "  Validation MSE: 908.71039\n",
      "  R² Score: -0.00412\n",
      "Model saved to d:\\year 3\\hk2\\Machine Learning\\ML-LearningMachine\\models\\trained\\NN.pkl\n"
     ]
    }
   ],
   "source": [
    "results = train_eval_save_NN(\n",
    "    data=data,\n",
    "    data_output=data_output,\n",
    "    scaler_y=scaler_y,\n",
    "    device=device,\n",
    "    k_folds=5,\n",
    "    num_epochs=50,\n",
    "    batch_size=64,\n",
    ")"
   ]
  },
  {
   "cell_type": "code",
   "execution_count": 19,
   "metadata": {},
   "outputs": [
    {
     "name": "stdout",
     "output_type": "stream",
     "text": [
      "\n",
      "Cross-Validation Results:\n",
      "Fold 1: MSE = 905.13617, R² = -0.00179\n",
      "Fold 2: MSE = 904.77039, R² = 0.00596\n",
      "Fold 3: MSE = 888.00098, R² = 0.00044\n",
      "Fold 4: MSE = 890.64197, R² = 0.00614\n",
      "Fold 5: MSE = 908.71039, R² = -0.00412\n",
      "\n",
      "Average MSE: 899.45198\n",
      "Average R²: 0.00132\n"
     ]
    }
   ],
   "source": [
    "print(\"\\nCross-Validation Results:\")\n",
    "for res in results:\n",
    "    print(f\"Fold {res['fold']}: MSE = {res['mse']:.5f}, R² = {res['r2']:.5f}\")\n",
    "\n",
    "\n",
    "avg_mse = np.mean([r['mse'] for r in results])\n",
    "avg_r2 = np.mean([r['r2'] for r in results])\n",
    "print(f\"\\nAverage MSE: {avg_mse:.5f}\")\n",
    "print(f\"Average R²: {avg_r2:.5f}\")"
   ]
  }
 ],
 "metadata": {
  "kernelspec": {
   "display_name": "deeplearning",
   "language": "python",
   "name": "python3"
  },
  "language_info": {
   "codemirror_mode": {
    "name": "ipython",
    "version": 3
   },
   "file_extension": ".py",
   "mimetype": "text/x-python",
   "name": "python",
   "nbconvert_exporter": "python",
   "pygments_lexer": "ipython3",
   "version": "3.12.3"
  }
 },
 "nbformat": 4,
 "nbformat_minor": 2
}
