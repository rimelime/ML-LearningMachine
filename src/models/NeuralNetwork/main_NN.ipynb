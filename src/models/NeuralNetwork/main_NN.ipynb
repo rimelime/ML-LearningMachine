{
 "cells": [
  {
   "cell_type": "code",
   "execution_count": 1,
   "metadata": {},
   "outputs": [],
   "source": [
    "import pandas as pd\n",
    "import numpy as np\n",
    "import torch\n",
    "from sklearn.preprocessing import StandardScaler\n",
    "import sys\n",
    "import os\n",
    "# sys.path.append(os.path.dirname(os.path.dirname(os.path.abspath(os.getcwd()))))\n",
    "from eval_NN import train_eval_save_NN"
   ]
  },
  {
   "cell_type": "code",
   "execution_count": null,
   "metadata": {},
   "outputs": [],
   "source": [
    "# TRAIN_CSV = \"data/processed/cleaned_data.csv\"\n",
    "# MODEL_PATH = \"models/trained/NN_model.pkl\"\n",
    "BASE_DIR=os.path.dirname(os.path.dirname(os.path.dirname(os.path.abspath(os.getcwd()))))\n",
    "csv_path = os.path.join(BASE_DIR,\"data\", \"processed\", \"cleaned_data.csv\")\n",
    "outputPath = os.path.join(BASE_DIR,\"models\", \"trained\", \"NN_model.pkl\")"
   ]
  },
  {
   "cell_type": "code",
   "execution_count": 3,
   "metadata": {},
   "outputs": [
    {
     "name": "stdout",
     "output_type": "stream",
     "text": [
      "Using device: cpu\n"
     ]
    }
   ],
   "source": [
    "device = torch.device(\"cuda\" if torch.cuda.is_available() else \"cpu\")\n",
    "print(f\"Using device: {device}\")"
   ]
  },
  {
   "cell_type": "code",
   "execution_count": 4,
   "metadata": {},
   "outputs": [],
   "source": [
    "\n",
    "df = pd.read_csv(csv_path)"
   ]
  },
  {
   "cell_type": "code",
   "execution_count": 5,
   "metadata": {},
   "outputs": [],
   "source": [
    "features = [\n",
    "        'store_sales(in millions)', 'store_cost(in millions)', 'total_children',\n",
    "        'avg_cars_at home(approx)', 'num_children_at_home', 'gross_weight',\n",
    "        'net_weight', 'store_sqft', 'grocery_sqft', 'units_per_case', 'SRP'\n",
    "    ]\n",
    "target = 'cost'"
   ]
  },
  {
   "cell_type": "code",
   "execution_count": 6,
   "metadata": {},
   "outputs": [],
   "source": [
    "data = df[features].values\n",
    "data_output = df[target].values"
   ]
  },
  {
   "cell_type": "code",
   "execution_count": 7,
   "metadata": {},
   "outputs": [],
   "source": [
    "scaler_X = StandardScaler()\n",
    "scaler_y = StandardScaler()\n",
    "\n",
    "data = scaler_X.fit_transform(data)\n",
    "data_output = scaler_y.fit_transform(data_output.reshape(-1, 1))"
   ]
  },
  {
   "cell_type": "code",
   "execution_count": 8,
   "metadata": {},
   "outputs": [],
   "source": [
    "data = torch.tensor(data, dtype=torch.float32).to(device)\n",
    "data_output = torch.tensor(data_output, dtype=torch.float32).to(device).view(-1, 1)"
   ]
  },
  {
   "cell_type": "code",
   "execution_count": 9,
   "metadata": {},
   "outputs": [
    {
     "name": "stdout",
     "output_type": "stream",
     "text": [
      "Fold 1/5\n"
     ]
    },
    {
     "name": "stderr",
     "output_type": "stream",
     "text": [
      "d:\\Anaconda3\\envs\\deeplearning\\Lib\\site-packages\\tqdm\\auto.py:21: TqdmWarning: IProgress not found. Please update jupyter and ipywidgets. See https://ipywidgets.readthedocs.io/en/stable/user_install.html\n",
      "  from .autonotebook import tqdm as notebook_tqdm\n"
     ]
    },
    {
     "name": "stdout",
     "output_type": "stream",
     "text": [
      "  Epoch [10/50] - Loss: 0.96798\n",
      "  Epoch [20/50] - Loss: 0.95575\n",
      "  Epoch [30/50] - Loss: 0.94366\n",
      "  Epoch [40/50] - Loss: 0.93430\n",
      "  Epoch [50/50] - Loss: 0.92259\n",
      "  Accuracy: 0.00000\n",
      "  Validation MSE: 893.87390\n",
      "  R² Score: 0.01068\n",
      "Fold 2/5\n",
      "  Epoch [10/50] - Loss: 0.96615\n",
      "  Epoch [20/50] - Loss: 0.95316\n",
      "  Epoch [30/50] - Loss: 0.94049\n",
      "  Epoch [40/50] - Loss: 0.92958\n",
      "  Epoch [50/50] - Loss: 0.91998\n",
      "  Accuracy: 0.00000\n",
      "  Validation MSE: 911.01624\n",
      "  R² Score: -0.00090\n",
      "Fold 3/5\n",
      "  Epoch [10/50] - Loss: 0.97196\n",
      "  Epoch [20/50] - Loss: 0.95915\n",
      "  Epoch [30/50] - Loss: 0.94749\n",
      "  Epoch [40/50] - Loss: 0.93496\n",
      "  Epoch [50/50] - Loss: 0.92729\n",
      "  Accuracy: 0.00000\n",
      "  Validation MSE: 888.30408\n",
      "  R² Score: 0.00010\n",
      "Fold 4/5\n",
      "  Epoch [10/50] - Loss: 0.97044\n",
      "  Epoch [20/50] - Loss: 0.95928\n",
      "  Epoch [30/50] - Loss: 0.94653\n",
      "  Epoch [40/50] - Loss: 0.93634\n",
      "  Epoch [50/50] - Loss: 0.92581\n",
      "  Accuracy: 0.00000\n",
      "  Validation MSE: 905.11755\n",
      "  R² Score: -0.01002\n",
      "Fold 5/5\n",
      "  Epoch [10/50] - Loss: 0.96738\n",
      "  Epoch [20/50] - Loss: 0.95480\n",
      "  Epoch [30/50] - Loss: 0.94196\n",
      "  Epoch [40/50] - Loss: 0.93280\n",
      "  Epoch [50/50] - Loss: 0.92456\n",
      "  Accuracy: 0.00000\n",
      "  Validation MSE: 906.36200\n",
      "  R² Score: -0.00153\n",
      "Model saved to d:\\year 3\\hk2\\Machine Learning\\ML-LearningMachine\\models\\trained\\NN.pkl\n"
     ]
    }
   ],
   "source": [
    "results = train_eval_save_NN(\n",
    "    data=data,\n",
    "    data_output=data_output,\n",
    "    scaler_y=scaler_y,\n",
    "    device=device,\n",
    "    k_folds=5,\n",
    "    num_epochs=50,\n",
    "    batch_size=64,\n",
    ")"
   ]
  },
  {
   "cell_type": "code",
   "execution_count": 10,
   "metadata": {},
   "outputs": [
    {
     "name": "stdout",
     "output_type": "stream",
     "text": [
      "\n",
      "Cross-Validation Results:\n",
      "Fold 1: MSE = 893.87390, R² = 0.01068\n",
      "Fold 2: MSE = 911.01624, R² = -0.00090\n",
      "Fold 3: MSE = 888.30408, R² = 0.00010\n",
      "Fold 4: MSE = 905.11755, R² = -0.01002\n",
      "Fold 5: MSE = 906.36200, R² = -0.00153\n",
      "\n",
      "Average MSE: 900.93475\n",
      "Average R²: -0.00034\n"
     ]
    }
   ],
   "source": [
    "print(\"\\nCross-Validation Results:\")\n",
    "for res in results:\n",
    "    print(f\"Fold {res['fold']}: MSE = {res['mse']:.5f}, R² = {res['r2']:.5f}\")\n",
    "\n",
    "\n",
    "avg_mse = np.mean([r['mse'] for r in results])\n",
    "avg_r2 = np.mean([r['r2'] for r in results])\n",
    "print(f\"\\nAverage MSE: {avg_mse:.5f}\")\n",
    "print(f\"Average R²: {avg_r2:.5f}\")"
   ]
  }
 ],
 "metadata": {
  "kernelspec": {
   "display_name": "deeplearning",
   "language": "python",
   "name": "python3"
  },
  "language_info": {
   "codemirror_mode": {
    "name": "ipython",
    "version": 3
   },
   "file_extension": ".py",
   "mimetype": "text/x-python",
   "name": "python",
   "nbconvert_exporter": "python",
   "pygments_lexer": "ipython3",
   "version": "3.12.3"
  }
 },
 "nbformat": 4,
 "nbformat_minor": 2
}
