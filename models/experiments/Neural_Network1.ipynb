{
 "cells": [
  {
   "cell_type": "code",
   "execution_count": 58,
   "metadata": {},
   "outputs": [],
   "source": [
    "import pandas as pd\n",
    "import numpy as np\n",
    "import torch\n",
    "import torch.nn as nn\n",
    "from torch.utils.data import DataLoader,dataset,TensorDataset\n",
    "from sklearn import datasets\n",
    "from sklearn.preprocessing import StandardScaler,MinMaxScaler\n",
    "from sklearn.model_selection import train_test_split\n",
    "import matplotlib.pyplot as plt"
   ]
  },
  {
   "cell_type": "code",
   "execution_count": 59,
   "metadata": {},
   "outputs": [
    {
     "name": "stdout",
     "output_type": "stream",
     "text": [
      "cuda is activated!\n"
     ]
    }
   ],
   "source": [
    "\n",
    "if torch.cuda.is_available():\n",
    "    device=torch.device(\"cuda\")\n",
    "    print(\"cuda is activated!\")"
   ]
  },
  {
   "cell_type": "code",
   "execution_count": 60,
   "metadata": {},
   "outputs": [],
   "source": [
    "csv_path=\"D:/year 3/hk2/Machine Learning/testcode/media prediction and its cost.csv\"\n",
    "df = pd.read_csv(csv_path)\n",
    "data= df[['store_sales(in millions)','store_cost(in millions)','total_children','avg_cars_at home(approx)',\n",
    "          'num_children_at_home','gross_weight','net_weight','store_sqft','grocery_sqft',\n",
    "            'units_per_case','SRP']].values\n",
    "# data= df[['gross_weight','net_weight']]\n",
    "# print(data.info())\n",
    "data_output=df[['cost']].values\n",
    "# sc= MinMaxScaler()\n",
    "# data=sc.fit_transform(data)\n",
    "# x_test=sc.transform(x_test)"
   ]
  },
  {
   "cell_type": "code",
   "execution_count": 61,
   "metadata": {},
   "outputs": [],
   "source": [
    "n_sample, n_feature= data.shape\n",
    "x_train, x_test, y_train, y_test = train_test_split(data,data_output,test_size=0.2,random_state=42)"
   ]
  },
  {
   "cell_type": "code",
   "execution_count": 62,
   "metadata": {},
   "outputs": [],
   "source": [
    "sc= StandardScaler()\n",
    "x_train=sc.fit_transform(x_train)\n",
    "x_test=sc.transform(x_test)"
   ]
  },
  {
   "cell_type": "code",
   "execution_count": 63,
   "metadata": {},
   "outputs": [],
   "source": [
    "# x_train=torch.from_numpy(x_train.astype(np.float32)).to(device=device)\n",
    "# x_test=torch.from_numpy(x_test.astype(np.float32)).to(device=device)\n",
    "# y_train=torch.from_numpy(y_train.to_numpy().astype(np.float32)).to(device=device)\n",
    "# y_test=torch.from_numpy(y_test.to_numpy().astype(np.float32)).to(device=device)\n",
    "# y_train=y_train.view(y_train.shape[0],1)\n",
    "# y_test=y_test.view(y_test.shape[0],1)\n",
    "x_train = torch.tensor(x_train, dtype=torch.float32).to(device=device)\n",
    "y_train = torch.tensor(y_train, dtype=torch.float32).to(device=device).view(-1, 1)\n",
    "x_test = torch.tensor(x_test, dtype=torch.float32).to(device=device)\n",
    "y_test = torch.tensor(y_test, dtype=torch.float32).to(device=device).view(-1, 1)"
   ]
  },
  {
   "cell_type": "code",
   "execution_count": 64,
   "metadata": {},
   "outputs": [],
   "source": [
    "batch_size = 64\n",
    "train_dataset = TensorDataset(x_train, y_train)\n",
    "train_loader = DataLoader(train_dataset, batch_size=batch_size, shuffle=True)"
   ]
  },
  {
   "cell_type": "code",
   "execution_count": 65,
   "metadata": {},
   "outputs": [],
   "source": [
    "# class linearregression (nn.Module):\n",
    "#     def __init__(self,n_input_feature):\n",
    "#         super(linearregression,self).__init__()\n",
    "#         self.linear1=nn.Linear(n_input_feature,32,device=device)\n",
    "#         self.relu1=nn.ReLU(inplace=True)\n",
    "#         self.soft=nn.Softmax(dim=0)\n",
    "\n",
    "#         self.linear2=nn.Linear(16,32,device=device)\n",
    "#         self.relu2=nn.ReLU(inplace=True)\n",
    "\n",
    "#         self.linear3=nn.Linear(32,16,device=device)\n",
    "#         self.relu3=nn.ReLU(inplace=True)\n",
    "        \n",
    "#         self.linear4=nn.Linear(32,1,device=device)\n",
    "#         self.relu4=nn.ReLU(inplace=True)\n",
    "#     def forward(self, x):\n",
    "#         out=self.soft(self.linear1(x))\n",
    "#         # out=self.relu2(self.linear2(out))\n",
    "#         # out=self.relu3(self.linear3(out))\n",
    "#         return (self.linear4(out))\n",
    "class linearregression(nn.Module):\n",
    "    def __init__(self, input_size):\n",
    "        super(linearregression, self).__init__()\n",
    "        self.fc1 = nn.Linear(input_size, 64,device=device)\n",
    "        self.fc2 = nn.Linear(64, 32,device=device)\n",
    "        self.fc3 = nn.Linear(32, 16,device=device)\n",
    "        self.fc4 = nn.Linear(16, 1,device=device)\n",
    "        self.relu = nn.ReLU()\n",
    "    \n",
    "    def forward(self, x):\n",
    "        x = self.relu(self.fc1(x))\n",
    "        x = self.relu(self.fc2(x))\n",
    "        x = self.relu(self.fc3(x))\n",
    "        x = self.fc4(x)  # No activation for regression\n",
    "        return x"
   ]
  },
  {
   "cell_type": "code",
   "execution_count": 66,
   "metadata": {},
   "outputs": [],
   "source": [
    "learning_rate=0.01\n",
    "model = linearregression(n_feature)\n",
    "loss=nn.MSELoss()\n",
    "optium=torch.optim.Adam(model.parameters(),learning_rate)\n"
   ]
  },
  {
   "cell_type": "code",
   "execution_count": 67,
   "metadata": {},
   "outputs": [
    {
     "name": "stdout",
     "output_type": "stream",
     "text": [
      "epoch 10: the loss = 891.04919\n",
      "epoch 20: the loss = 872.60781\n",
      "epoch 30: the loss = 866.75097\n",
      "epoch 40: the loss = 862.10854\n",
      "epoch 50: the loss = 859.46630\n",
      "epoch 60: the loss = 856.11465\n",
      "epoch 70: the loss = 855.16766\n",
      "epoch 80: the loss = 853.03543\n",
      "epoch 90: the loss = 853.23930\n",
      "epoch 100: the loss = 852.43728\n"
     ]
    }
   ],
   "source": [
    "for epoch in range(100):\n",
    "    model.train()\n",
    "    l=0.0\n",
    "    for batch_X, batch_y in train_loader:\n",
    "        optium.zero_grad()\n",
    "        y_predicted=model.forward(batch_X)\n",
    "        los=loss(y_predicted,batch_y)\n",
    "        los.backward()\n",
    "        optium.step()\n",
    "        l+=los.item()\n",
    "    if (epoch+1)%10==0:\n",
    "        print(f\"epoch {epoch+1}: the loss = {l/len(train_loader):.5f}\")\n",
    "# for epoch in range(100):\n",
    "#     model.train()\n",
    "#     optium.zero_grad()\n",
    "#     y_predicted=model(x_train)\n",
    "#     l=loss(y_predicted,y_train)\n",
    "#     l.backward()\n",
    "#     optium.step()\n",
    "#     if (epoch+1)%10==0:\n",
    "#         print(f\"epoch {epoch+1}: the loss = {l.item():.5f}\")"
   ]
  },
  {
   "cell_type": "code",
   "execution_count": 68,
   "metadata": {},
   "outputs": [
    {
     "name": "stdout",
     "output_type": "stream",
     "text": [
      "the acccuracy of the model is: 0.00017\n"
     ]
    }
   ],
   "source": [
    "# model.eval()\n",
    "with torch.no_grad():\n",
    "    y_predicted=model(x_test)\n",
    "    y_predicted_rounded=y_predicted.round()\n",
    "    accuracy=y_predicted_rounded.eq(y_test).sum()/float(y_test.shape[0])\n",
    "    print(f\"the acccuracy of the model is: {accuracy:.5f}\")"
   ]
  }
 ],
 "metadata": {
  "kernelspec": {
   "display_name": "newev",
   "language": "python",
   "name": "python3"
  },
  "language_info": {
   "codemirror_mode": {
    "name": "ipython",
    "version": 3
   },
   "file_extension": ".py",
   "mimetype": "text/x-python",
   "name": "python",
   "nbconvert_exporter": "python",
   "pygments_lexer": "ipython3",
   "version": "3.12.3"
  }
 },
 "nbformat": 4,
 "nbformat_minor": 2
}
