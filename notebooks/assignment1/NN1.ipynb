{
 "cells": [
  {
   "cell_type": "code",
   "execution_count": 21,
   "metadata": {},
   "outputs": [],
   "source": [
    "import pandas as pd\n",
    "import numpy as np\n",
    "import torch\n",
    "import torch.nn as nn\n",
    "from torch.utils.data import DataLoader, TensorDataset\n",
    "from sklearn.model_selection import KFold\n",
    "from sklearn.preprocessing import StandardScaler\n",
    "from sklearn.model_selection import train_test_split\n",
    "# import matplotlib.pyplot as plt"
   ]
  },
  {
   "cell_type": "markdown",
   "metadata": {},
   "source": [
    "### Choose device and import dataset"
   ]
  },
  {
   "cell_type": "code",
   "execution_count": 22,
   "metadata": {},
   "outputs": [
    {
     "name": "stdout",
     "output_type": "stream",
     "text": [
      "Using device: cuda\n"
     ]
    }
   ],
   "source": [
    "device = torch.device(\"cuda\" if torch.cuda.is_available() else \"cpu\")\n",
    "print(f\"Using device: {device}\")\n",
    "\n",
    "# Load data\n",
    "csv_path = \"D:/year 3/hk2/Machine Learning/testcode/cleaned_data.csv\"\n",
    "df = pd.read_csv(csv_path)"
   ]
  },
  {
   "cell_type": "markdown",
   "metadata": {},
   "source": [
    "### selecting features and target(label) columns"
   ]
  },
  {
   "cell_type": "code",
   "execution_count": 23,
   "metadata": {},
   "outputs": [],
   "source": [
    "features = ['store_sales(in millions)', 'store_cost(in millions)', 'total_children', \n",
    "            'avg_cars_at home(approx)', 'num_children_at_home', 'gross_weight', \n",
    "            'net_weight', 'store_sqft', 'grocery_sqft', 'units_per_case', 'SRP']\n",
    "target = 'cost'\n",
    "\n",
    "data = df[features].values\n",
    "data_output = df[target].values"
   ]
  },
  {
   "cell_type": "markdown",
   "metadata": {},
   "source": [
    "### Scaling the data to for better trainning"
   ]
  },
  {
   "cell_type": "code",
   "execution_count": 24,
   "metadata": {},
   "outputs": [],
   "source": [
    "scaler_X = StandardScaler()\n",
    "scaler_y = StandardScaler()\n",
    "data = scaler_X.fit_transform(data)\n",
    "data_output = scaler_y.fit_transform(data_output.reshape(-1, 1)) "
   ]
  },
  {
   "cell_type": "code",
   "execution_count": 25,
   "metadata": {},
   "outputs": [],
   "source": [
    "data = torch.tensor(data, dtype=torch.float32).to(device)\n",
    "data_output = torch.tensor(data_output, dtype=torch.float32).to(device).view(-1, 1)"
   ]
  },
  {
   "cell_type": "markdown",
   "metadata": {},
   "source": [
    "### Implement the neural network model"
   ]
  },
  {
   "cell_type": "code",
   "execution_count": 26,
   "metadata": {},
   "outputs": [],
   "source": [
    "# class ImprovedModel(nn.Module):\n",
    "#     def __init__(self, input_dim):\n",
    "#         super(ImprovedModel, self).__init__()\n",
    "#         # self.fc1 = nn.Linear(input_dim, 128)\n",
    "#         # self.bn1 = nn.BatchNorm1d(128)\n",
    "#         # self.fc2 = nn.Linear(128, 64)\n",
    "#         # self.bn2 = nn.BatchNorm1d(64)\n",
    "#         # self.fc3 = nn.Linear(64, 32)\n",
    "#         # self.bn3 = nn.BatchNorm1d(32)\n",
    "#         # self.fc4 = nn.Linear(32, 16)\n",
    "#         # self.fc5 = nn.Linear(16, 1)\n",
    "#         self.fc1 = nn.Linear(input_dim, 256)\n",
    "#         self.fc2 = nn.Linear(256, 128)\n",
    "#         self.fc3 = nn.Linear(128, 64)\n",
    "#         self.fc4 = nn.Linear(64, 32)\n",
    "#         self.fc5 = nn.Linear(32, 16)\n",
    "#         self.fc6 = nn.Linear(16, 1)\n",
    "#         self.dropout = nn.Dropout(0.2)\n",
    "#         self.relu = nn.LeakyReLU(0.01)\n",
    "    \n",
    "#     def forward(self, x):\n",
    "#         # x = self.relu(self.bn1(self.fc1(x)))\n",
    "#         # # x = self.dropout(x)\n",
    "#         # x = self.relu(self.bn2(self.fc2(x)))\n",
    "#         # # x = self.dropout(x)\n",
    "#         # x = self.relu(self.bn3(self.fc3(x)))\n",
    "#         # # x = self.dropout(x)\n",
    "#         # x = self.relu(self.fc4(x))\n",
    "#         x = self.relu(self.fc1(x))\n",
    "#         x = self.relu(self.fc2(x))\n",
    "#         x = self.relu(self.fc3(x))\n",
    "#         x = self.relu(self.fc4(x))\n",
    "#         x = self.relu(self.fc5(x))\n",
    "#         x = self.fc6(x)0\n",
    "#         return x"
   ]
  },
  {
   "cell_type": "code",
   "execution_count": 27,
   "metadata": {},
   "outputs": [],
   "source": [
    "class NeuralNetworkModel(nn.Module):\n",
    "    def __init__(self, input_dim):\n",
    "        super(NeuralNetworkModel, self).__init__()\n",
    "        self.fc1 = nn.Linear(input_dim, 128)\n",
    "        self.bn1 = nn.BatchNorm1d(128)\n",
    "        self.fc2 = nn.Linear(128, 64)\n",
    "        self.bn2 = nn.BatchNorm1d(64)\n",
    "        self.fc3 = nn.Linear(64, 32)\n",
    "        self.bn3 = nn.BatchNorm1d(32)\n",
    "        self.fc4 = nn.Linear(32, 16)\n",
    "        self.fc5 = nn.Linear(16, 1)\n",
    "        self.dropout = nn.Dropout(0.2)\n",
    "        self.relu = nn.Softmax()\n",
    "    \n",
    "    def forward(self, x):\n",
    "        x = self.relu(self.bn1(self.fc1(x))) #self.bn1(\n",
    "        x = self.dropout(x)\n",
    "        x = self.relu(self.bn2(self.fc2(x)))\n",
    "        x = self.dropout(x)\n",
    "        x = self.relu(self.bn3(self.fc3(x)))\n",
    "        x = self.dropout(x)\n",
    "        x = self.relu(self.fc4(x))\n",
    "        x = self.fc5(x)\n",
    "        return x"
   ]
  },
  {
   "cell_type": "markdown",
   "metadata": {},
   "source": [
    "### training and testing model using batches"
   ]
  },
  {
   "cell_type": "code",
   "execution_count": 28,
   "metadata": {},
   "outputs": [
    {
     "name": "stderr",
     "output_type": "stream",
     "text": [
      "d:\\Anaconda3\\envs\\newev\\Lib\\site-packages\\torch\\nn\\modules\\module.py:1553: UserWarning: Implicit dimension choice for softmax has been deprecated. Change the call to include dim=X as an argument.\n",
      "  return self._call_impl(*args, **kwargs)\n"
     ]
    },
    {
     "name": "stdout",
     "output_type": "stream",
     "text": [
      "epoch 10: the loss = 0.98020\n",
      "epoch 20: the loss = 0.97849\n",
      "epoch 30: the loss = 0.97785\n",
      "epoch 40: the loss = 0.97717\n",
      "epoch 50: the loss = 0.97655\n",
      "epoch 60: the loss = 0.97573\n",
      "epoch 70: the loss = 0.97599\n",
      "epoch 80: the loss = 0.97558\n",
      "epoch 90: the loss = 0.97630\n",
      "epoch 100: the loss = 0.97458\n",
      "the acccuracy of the model is: 0.28330\n"
     ]
    }
   ],
   "source": [
    "x_train, x_test, y_train, y_test = train_test_split(data,data_output,test_size=0.2,random_state=42)\n",
    "batch_size = 64\n",
    "train_dataset = TensorDataset(x_train, y_train)\n",
    "train_loader = DataLoader(train_dataset, batch_size=batch_size, shuffle=True)\n",
    "learning_rate=0.001\n",
    "model = NeuralNetworkModel(x_train.shape[1]).to(device)\n",
    "loss=nn.MSELoss()\n",
    "optium=torch.optim.AdamW(model.parameters(),learning_rate)\n",
    "for epoch in range(100):\n",
    "    model.train()\n",
    "    l=0.0\n",
    "    for batch_X, batch_y in train_loader:\n",
    "        optium.zero_grad()\n",
    "        y_predicted=model(batch_X)\n",
    "        los=loss(y_predicted,batch_y)\n",
    "        los.backward()\n",
    "        optium.step()\n",
    "        l+=los.item()\n",
    "    if (epoch+1)%10==0:\n",
    "        print(f\"epoch {epoch+1}: the loss = {l/len(train_loader):.5f}\")\n",
    "with torch.no_grad():\n",
    "    y_predicted=model(x_test)\n",
    "    y_predicted_rounded=y_predicted.round()\n",
    "    accuracy=y_predicted_rounded.eq(y_test.round()).sum()/y_test.shape[0]#float(y_test.shape[0])\n",
    "    print(f\"the acccuracy of the model is: {accuracy:.5f}\")\n",
    "    # for predict, real in zip(y_predicted[:10], y_test[:10]):\n",
    "    #     print (f\"output: {predict.item()}; predicted: {real.item()}\")"
   ]
  },
  {
   "cell_type": "markdown",
   "metadata": {},
   "source": [
    "### Attemping Cross validation using K Fold"
   ]
  },
  {
   "cell_type": "code",
   "execution_count": 29,
   "metadata": {},
   "outputs": [],
   "source": [
    "k_folds = 5\n",
    "kfold = KFold(n_splits=k_folds, shuffle=True, random_state=42)"
   ]
  },
  {
   "cell_type": "code",
   "execution_count": 30,
   "metadata": {},
   "outputs": [
    {
     "name": "stdout",
     "output_type": "stream",
     "text": [
      "Fold 1/5\n",
      "Epoch [10/50], Loss: 0.98055\n",
      "Epoch [20/50], Loss: 0.97884\n",
      "Epoch [30/50], Loss: 0.97738\n",
      "Epoch [40/50], Loss: 0.97592\n",
      "Epoch [50/50], Loss: 0.97529\n",
      "the acccuracy of the model is: 0.00000\n",
      "Validation MSE for Fold 1: 878.98645\n",
      "R² Score for Fold 1: 0.02716\n",
      "Fold 2/5\n"
     ]
    },
    {
     "name": "stderr",
     "output_type": "stream",
     "text": [
      "d:\\Anaconda3\\envs\\newev\\Lib\\site-packages\\torch\\nn\\modules\\module.py:1553: UserWarning: Implicit dimension choice for softmax has been deprecated. Change the call to include dim=X as an argument.\n",
      "  return self._call_impl(*args, **kwargs)\n"
     ]
    },
    {
     "name": "stdout",
     "output_type": "stream",
     "text": [
      "Epoch [10/50], Loss: 0.97916\n",
      "Epoch [20/50], Loss: 0.97720\n",
      "Epoch [30/50], Loss: 0.97645\n",
      "Epoch [40/50], Loss: 0.97649\n",
      "Epoch [50/50], Loss: 0.97340\n",
      "the acccuracy of the model is: 0.00000\n",
      "Validation MSE for Fold 2: 877.48810\n",
      "R² Score for Fold 2: 0.03593\n",
      "Fold 3/5\n"
     ]
    },
    {
     "name": "stderr",
     "output_type": "stream",
     "text": [
      "d:\\Anaconda3\\envs\\newev\\Lib\\site-packages\\torch\\nn\\modules\\module.py:1553: UserWarning: Implicit dimension choice for softmax has been deprecated. Change the call to include dim=X as an argument.\n",
      "  return self._call_impl(*args, **kwargs)\n"
     ]
    },
    {
     "name": "stdout",
     "output_type": "stream",
     "text": [
      "Epoch [10/50], Loss: 0.98042\n",
      "Epoch [20/50], Loss: 0.97806\n",
      "Epoch [30/50], Loss: 0.97697\n",
      "Epoch [40/50], Loss: 0.97600\n",
      "Epoch [50/50], Loss: 0.97505\n",
      "the acccuracy of the model is: 0.00000\n",
      "Validation MSE for Fold 3: 860.96033\n",
      "R² Score for Fold 3: 0.03087\n",
      "Fold 4/5\n"
     ]
    },
    {
     "name": "stderr",
     "output_type": "stream",
     "text": [
      "d:\\Anaconda3\\envs\\newev\\Lib\\site-packages\\torch\\nn\\modules\\module.py:1553: UserWarning: Implicit dimension choice for softmax has been deprecated. Change the call to include dim=X as an argument.\n",
      "  return self._call_impl(*args, **kwargs)\n"
     ]
    },
    {
     "name": "stdout",
     "output_type": "stream",
     "text": [
      "Epoch [10/50], Loss: 0.98050\n",
      "Epoch [20/50], Loss: 0.97753\n",
      "Epoch [30/50], Loss: 0.97686\n",
      "Epoch [40/50], Loss: 0.97520\n",
      "Epoch [50/50], Loss: 0.97446\n",
      "the acccuracy of the model is: 0.00000\n",
      "Validation MSE for Fold 4: 867.69952\n",
      "R² Score for Fold 4: 0.03174\n",
      "Fold 5/5\n"
     ]
    },
    {
     "name": "stderr",
     "output_type": "stream",
     "text": [
      "d:\\Anaconda3\\envs\\newev\\Lib\\site-packages\\torch\\nn\\modules\\module.py:1553: UserWarning: Implicit dimension choice for softmax has been deprecated. Change the call to include dim=X as an argument.\n",
      "  return self._call_impl(*args, **kwargs)\n"
     ]
    },
    {
     "name": "stdout",
     "output_type": "stream",
     "text": [
      "Epoch [10/50], Loss: 0.98034\n",
      "Epoch [20/50], Loss: 0.97896\n",
      "Epoch [30/50], Loss: 0.97724\n",
      "Epoch [40/50], Loss: 0.97560\n",
      "Epoch [50/50], Loss: 0.97481\n",
      "the acccuracy of the model is: 0.00000\n",
      "Validation MSE for Fold 5: 878.45184\n",
      "R² Score for Fold 5: 0.02931\n"
     ]
    }
   ],
   "source": [
    "results = []\n",
    "for fold, (train_ids, val_ids) in enumerate(kfold.split(data)):\n",
    "    print(f\"Fold {fold + 1}/{k_folds}\")\n",
    "    \n",
    "    # Split data into training and validation sets\n",
    "    x_train, y_train = data[train_ids], data_output[train_ids]\n",
    "    x_val, y_val = data[val_ids], data_output[val_ids]\n",
    "    \n",
    "    # Create DataLoader for training\n",
    "    # batch_size = 64\n",
    "    # train_dataset = TensorDataset(x_train, y_train)\n",
    "    # train_loader = DataLoader(train_dataset, batch_size=batch_size, shuffle=True)\n",
    "    \n",
    "    # Initialize model, loss, and optimizer\n",
    "    model = NeuralNetworkModel(x_train.shape[1]).to(device)\n",
    "    criterion = nn.MSELoss()\n",
    "    optimizer = torch.optim.AdamW(model.parameters(), lr=0.001,weight_decay=0)\n",
    "    \n",
    "    # Training loop\n",
    "    num_epochs = 50\n",
    "    for epoch in range(num_epochs):\n",
    "        model.train()\n",
    "        running_loss = 0.0\n",
    "        for batch_X, batch_y in train_loader:\n",
    "            optimizer.zero_grad()\n",
    "            outputs = model(batch_X)\n",
    "            loss = criterion(outputs, batch_y)\n",
    "            loss.backward()\n",
    "            optimizer.step()\n",
    "            running_loss += loss.item()\n",
    "        \n",
    "        if (epoch + 1) % 10 == 0:\n",
    "            print(f\"Epoch [{epoch+1}/{num_epochs}], Loss: {running_loss/len(train_loader):.5f}\")\n",
    "\n",
    "            \n",
    "    model.eval()\n",
    "    with torch.no_grad():\n",
    "        y_pred = model(x_val)\n",
    "        y_pred = torch.tensor(scaler_y.inverse_transform(y_pred.cpu().numpy()), dtype=torch.float32).to(device)  # Inverse transform predictions\n",
    "        y_val = torch.tensor(scaler_y.inverse_transform(y_val.cpu().numpy()), dtype=torch.float32).to(device)  # Inverse transform validation data\n",
    "        accuracy=y_pred.eq(y_val.round()).sum()/y_val.shape[0]#float(y_test.shape[0])\n",
    "        print(f\"the acccuracy of the model is: {accuracy:.5f}\")\n",
    "        mse = criterion(y_pred, y_val)\n",
    "        print(f\"Validation MSE for Fold {fold + 1}: {mse.item():.5f}\")\n",
    "        \n",
    "        # Calculate R² score\n",
    "        ss_total = torch.sum((y_val - torch.mean(y_val))**2)\n",
    "        ss_residual = torch.sum((y_val - y_pred)**2)\n",
    "        r2 = 1 - (ss_residual / ss_total)\n",
    "        print(f\"R² Score for Fold {fold + 1}: {r2.item():.5f}\")\n",
    "        \n",
    "        results.append({\n",
    "            \"fold\": fold + 1,\n",
    "            \"mse\": mse.item(),\n",
    "            \"r2\": r2.item()\n",
    "        })\n",
    " "
   ]
  },
  {
   "cell_type": "markdown",
   "metadata": {},
   "source": [
    "### Evaluate the cross validation result"
   ]
  },
  {
   "cell_type": "code",
   "execution_count": 31,
   "metadata": {},
   "outputs": [
    {
     "name": "stdout",
     "output_type": "stream",
     "text": [
      "\n",
      "Cross-Validation Results:\n",
      "Fold 1: MSE = 878.98645, R² = 0.02716\n",
      "Fold 2: MSE = 877.48810, R² = 0.03593\n",
      "Fold 3: MSE = 860.96033, R² = 0.03087\n",
      "Fold 4: MSE = 867.69952, R² = 0.03174\n",
      "Fold 5: MSE = 878.45184, R² = 0.02931\n",
      "\n",
      "Average MSE across folds: 872.71725\n",
      "Average R² across folds: 0.03100\n"
     ]
    }
   ],
   "source": [
    "print(\"\\nCross-Validation Results:\")\n",
    "for result in results:\n",
    "    print(f\"Fold {result['fold']}: MSE = {result['mse']:.5f}, R² = {result['r2']:.5f}\")\n",
    "\n",
    "# Calculate average performance across folds\n",
    "avg_mse = np.mean([result['mse'] for result in results])\n",
    "avg_r2 = np.mean([result['r2'] for result in results])\n",
    "print(f\"\\nAverage MSE across folds: {avg_mse:.5f}\")\n",
    "print(f\"Average R² across folds: {avg_r2:.5f}\")"
   ]
  }
 ],
 "metadata": {
  "kernelspec": {
   "display_name": "newev",
   "language": "python",
   "name": "python3"
  },
  "language_info": {
   "codemirror_mode": {
    "name": "ipython",
    "version": 3
   },
   "file_extension": ".py",
   "mimetype": "text/x-python",
   "name": "python",
   "nbconvert_exporter": "python",
   "pygments_lexer": "ipython3",
   "version": "3.12.3"
  }
 },
 "nbformat": 4,
 "nbformat_minor": 2
}
